{
 "cells": [
  {
   "cell_type": "code",
   "execution_count": 1,
   "id": "bdf3a9e1-722d-44d2-a2ab-1b713535a068",
   "metadata": {},
   "outputs": [
    {
     "name": "stdout",
     "output_type": "stream",
     "text": [
      "Collecting opencv-python\n",
      "  Downloading opencv_python-4.10.0.84-cp37-abi3-macosx_11_0_arm64.whl.metadata (20 kB)\n",
      "Collecting pytesseract\n",
      "  Downloading pytesseract-0.3.13-py3-none-any.whl.metadata (11 kB)\n",
      "Requirement already satisfied: matplotlib in /opt/anaconda3/lib/python3.12/site-packages (3.8.4)\n",
      "Requirement already satisfied: Pillow in /opt/anaconda3/lib/python3.12/site-packages (10.3.0)\n",
      "Requirement already satisfied: numpy>=1.21.2 in /opt/anaconda3/lib/python3.12/site-packages (from opencv-python) (1.26.4)\n",
      "Requirement already satisfied: packaging>=21.3 in /opt/anaconda3/lib/python3.12/site-packages (from pytesseract) (23.2)\n",
      "Requirement already satisfied: contourpy>=1.0.1 in /opt/anaconda3/lib/python3.12/site-packages (from matplotlib) (1.2.0)\n",
      "Requirement already satisfied: cycler>=0.10 in /opt/anaconda3/lib/python3.12/site-packages (from matplotlib) (0.11.0)\n",
      "Requirement already satisfied: fonttools>=4.22.0 in /opt/anaconda3/lib/python3.12/site-packages (from matplotlib) (4.51.0)\n",
      "Requirement already satisfied: kiwisolver>=1.3.1 in /opt/anaconda3/lib/python3.12/site-packages (from matplotlib) (1.4.4)\n",
      "Requirement already satisfied: pyparsing>=2.3.1 in /opt/anaconda3/lib/python3.12/site-packages (from matplotlib) (3.0.9)\n",
      "Requirement already satisfied: python-dateutil>=2.7 in /opt/anaconda3/lib/python3.12/site-packages (from matplotlib) (2.9.0.post0)\n",
      "Requirement already satisfied: six>=1.5 in /opt/anaconda3/lib/python3.12/site-packages (from python-dateutil>=2.7->matplotlib) (1.16.0)\n",
      "Downloading opencv_python-4.10.0.84-cp37-abi3-macosx_11_0_arm64.whl (54.8 MB)\n",
      "\u001b[2K   \u001b[90m━━━━━━━━━━━━━━━━━━━━━━━━━━━━━━━━━━━━━━━━\u001b[0m \u001b[32m54.8/54.8 MB\u001b[0m \u001b[31m5.1 MB/s\u001b[0m eta \u001b[36m0:00:00\u001b[0m00:01\u001b[0m00:01\u001b[0m\n",
      "\u001b[?25hDownloading pytesseract-0.3.13-py3-none-any.whl (14 kB)\n",
      "Installing collected packages: pytesseract, opencv-python\n",
      "Successfully installed opencv-python-4.10.0.84 pytesseract-0.3.13\n",
      "Note: you may need to restart the kernel to use updated packages.\n"
     ]
    }
   ],
   "source": [
    "pip install opencv-python pytesseract matplotlib Pillow\n"
   ]
  },
  {
   "cell_type": "code",
   "execution_count": 1,
   "id": "c1433b3a-b981-4dfb-99b2-9cc1fc1246c6",
   "metadata": {},
   "outputs": [
    {
     "name": "stdout",
     "output_type": "stream",
     "text": [
      "zsh:1: command not found: apt-get\n"
     ]
    }
   ],
   "source": [
    "!apt-get update"
   ]
  },
  {
   "cell_type": "code",
   "execution_count": 4,
   "id": "04296feb-0303-43ab-91ce-07424cd50e4c",
   "metadata": {},
   "outputs": [
    {
     "name": "stdout",
     "output_type": "stream",
     "text": [
      "Requirement already satisfied: pytesseract in /opt/anaconda3/envs/ocr_env/lib/python3.9/site-packages (0.3.13)\n",
      "Requirement already satisfied: pillow in /opt/anaconda3/envs/ocr_env/lib/python3.9/site-packages (11.0.0)\n",
      "Requirement already satisfied: packaging>=21.3 in /opt/anaconda3/envs/ocr_env/lib/python3.9/site-packages (from pytesseract) (24.2)\n",
      "Note: you may need to restart the kernel to use updated packages.\n"
     ]
    }
   ],
   "source": [
    "pip install pytesseract pillow"
   ]
  },
  {
   "cell_type": "code",
   "execution_count": 23,
   "id": "fd457692-ff42-4131-ba99-e5096691f1ac",
   "metadata": {},
   "outputs": [],
   "source": [
    "import pytesseract\n",
    "\n",
    "# Set the Tesseract-OCR path\n",
    "pytesseract.pytesseract.tesseract_cmd = '/usr/local/bin/tesseract'\n"
   ]
  },
  {
   "cell_type": "code",
   "execution_count": 2,
   "id": "bbc6c33a-f681-4d9b-853b-0306f2116a07",
   "metadata": {},
   "outputs": [
    {
     "name": "stdout",
     "output_type": "stream",
     "text": [
      "Recognized Text:\n",
      "The Lion King is a 2019 American musical\n",
      "drama film that is a photorealistically animated\n",
      "\n"
     ]
    }
   ],
   "source": [
    "from PIL import Image\n",
    "import pytesseract\n",
    "\n",
    "pytesseract.pytesseract.tesseract_cmd = '/opt/homebrew/bin/tesseract'\n",
    "\n",
    "# Test OCR\n",
    "try:\n",
    "    text = pytesseract.image_to_string(Image.open('sample1.png'))  # Update with your image path\n",
    "    print(\"Recognized Text:\")\n",
    "    print(text)\n",
    "except Exception as e:\n",
    "    print(f\"Error: {e}\")\n"
   ]
  },
  {
   "cell_type": "code",
   "execution_count": 3,
   "id": "752763a1-ac53-41e6-bf52-43a736f721ce",
   "metadata": {},
   "outputs": [
    {
     "name": "stdout",
     "output_type": "stream",
     "text": [
      "Recognized Text:\n",
      "This is o honduseting test. to se how it loos\n",
      "On lined paper For thepost two welds I have\n",
      "been truing to improve. muy porine with\n",
      "uu. Ihave oun o tions, tips or feo. resources\n",
      "would toe. Po it out, Hope everrone.\n",
      "is hosing, oO 9900 dou. ey\n",
      "\n",
      "|\n",
      "\n"
     ]
    }
   ],
   "source": [
    "from PIL import Image\n",
    "import pytesseract\n",
    "\n",
    "pytesseract.pytesseract.tesseract_cmd = '/opt/homebrew/bin/tesseract'\n",
    "\n",
    "# Test OCR\n",
    "try:\n",
    "    text = pytesseract.image_to_string(Image.open('sample2.png'))  # Update with your image path\n",
    "    print(\"Recognized Text:\")\n",
    "    print(text)\n",
    "except Exception as e:\n",
    "    print(f\"Error: {e}\")\n"
   ]
  },
  {
   "cell_type": "code",
   "execution_count": 1,
   "id": "b3210e26-b7e2-40fb-baa2-14c4f5208cfb",
   "metadata": {},
   "outputs": [
    {
     "name": "stdout",
     "output_type": "stream",
     "text": [
      "Recognized Text:\n",
      "The Lion King is a 2019 American musical\n",
      "drama film that is a photorealistically animated\n",
      "\n"
     ]
    }
   ],
   "source": [
    "import cv2\n",
    "import pytesseract\n",
    "from PIL import Image\n",
    "\n",
    "# Set the Tesseract executable path (adjust according to your system)\n",
    "pytesseract.pytesseract.tesseract_cmd = '/opt/homebrew/bin/tesseract'\n",
    "\n",
    "def recognize_text(image_path):\n",
    "    # Read the image using OpenCV\n",
    "    image = cv2.imread(image_path)\n",
    "    \n",
    "    # Convert image to grayscale\n",
    "    gray = cv2.cvtColor(image, cv2.COLOR_BGR2GRAY)\n",
    "\n",
    "    # Apply preprocessing to improve OCR accuracy\n",
    "    # Denoising\n",
    "    gray = cv2.medianBlur(gray, 3)\n",
    "    \n",
    "    # Thresholding\n",
    "    _, thresh = cv2.threshold(gray, 0, 255, cv2.THRESH_BINARY + cv2.THRESH_OTSU)\n",
    "    \n",
    "    # Perform OCR\n",
    "    text = pytesseract.image_to_string(thresh, lang='eng')\n",
    "    \n",
    "    return text\n",
    "\n",
    "# Path to the image file\n",
    "image_file = \"sample1.png\"  # Replace with your image file path\n",
    "\n",
    "# Recognize text\n",
    "recognized_text = recognize_text(image_file)\n",
    "\n",
    "print(\"Recognized Text:\")\n",
    "print(recognized_text)\n"
   ]
  },
  {
   "cell_type": "code",
   "execution_count": 2,
   "id": "2de3d6bd-30bd-4f71-8795-dad338a9fd85",
   "metadata": {},
   "outputs": [
    {
     "name": "stdout",
     "output_type": "stream",
     "text": [
      "Recognized Text:\n",
      "This isa hondwcrting test. to se how rt looks\n",
      "jon lined paper: For the st. tuo wealAs I have.\n",
      "\n",
      "jbeen t MOVE Muy worrting along with\n",
      "pote white retire Pourttos tah p e If\n",
      "9 tions i tips or eel NESCULCES\n",
      "would Tove to it, out. Hope evertone.\n",
      "iS howine, oO geod doy.\n",
      "\n"
     ]
    }
   ],
   "source": [
    "import cv2\n",
    "import pytesseract\n",
    "from PIL import Image\n",
    "\n",
    "# Set the Tesseract executable path (adjust according to your system)\n",
    "pytesseract.pytesseract.tesseract_cmd = '/opt/homebrew/bin/tesseract'\n",
    "\n",
    "def recognize_text(image_path):\n",
    "    # Read the image using OpenCV\n",
    "    image = cv2.imread(image_path)\n",
    "    \n",
    "    # Convert image to grayscale\n",
    "    gray = cv2.cvtColor(image, cv2.COLOR_BGR2GRAY)\n",
    "\n",
    "    # Apply preprocessing to improve OCR accuracy\n",
    "    # Denoising\n",
    "    gray = cv2.medianBlur(gray, 3)\n",
    "    \n",
    "    # Thresholding\n",
    "    _, thresh = cv2.threshold(gray, 0, 255, cv2.THRESH_BINARY + cv2.THRESH_OTSU)\n",
    "    \n",
    "    # Perform OCR\n",
    "    text = pytesseract.image_to_string(thresh, lang='eng')\n",
    "    \n",
    "    return text\n",
    "\n",
    "# Path to the image file\n",
    "image_file = \"sample2.png\"  # Replace with your image file path\n",
    "\n",
    "# Recognize text\n",
    "recognized_text = recognize_text(image_file)\n",
    "\n",
    "print(\"Recognized Text:\")\n",
    "print(recognized_text)\n"
   ]
  },
  {
   "cell_type": "code",
   "execution_count": null,
   "id": "289821f4-d490-4240-920e-8c3e80f16676",
   "metadata": {},
   "outputs": [],
   "source": []
  }
 ],
 "metadata": {
  "kernelspec": {
   "display_name": "Python 3 (ipykernel)",
   "language": "python",
   "name": "python3"
  },
  "language_info": {
   "codemirror_mode": {
    "name": "ipython",
    "version": 3
   },
   "file_extension": ".py",
   "mimetype": "text/x-python",
   "name": "python",
   "nbconvert_exporter": "python",
   "pygments_lexer": "ipython3",
   "version": "3.12.4"
  }
 },
 "nbformat": 4,
 "nbformat_minor": 5
}
